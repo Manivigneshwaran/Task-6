{
 "cells": [
  {
   "cell_type": "markdown",
   "metadata": {},
   "source": [
    "# Assignment8"
   ]
  },
  {
   "cell_type": "code",
   "execution_count": 81,
   "metadata": {},
   "outputs": [],
   "source": [
    "import pandas as pd\n",
    "import matplotlib.pyplot as plt\n",
    "import numpy as np\n",
    "from sklearn import linear_model"
   ]
  },
  {
   "cell_type": "markdown",
   "metadata": {},
   "source": [
    "# How Much is Your Car Worth?\n",
    "\n",
    "Data about the retail price of 2005 General Motors cars can be found in `car_data.csv`.\n",
    "\n",
    "The columns are:\n",
    "\n",
    "1. Price: suggested retail price of the used 2005 GM car in excellent condition.\n",
    "2. Mileage: number of miles the car has been driven\n",
    "3. Make: manufacturer of the car such as Saturn, Pontiac, and Chevrolet\n",
    "4. Model: specific models for each car manufacturer such as Ion, Vibe, Cavalier\n",
    "5. Trim (of car): specific type of car model such as SE Sedan 4D, Quad Coupe 2D          \n",
    "6. Type: body type such as sedan, coupe, etc.      \n",
    "7. Cylinder: number of cylinders in the engine        \n",
    "8. Liter: a more specific measure of engine size     \n",
    "9. Doors: number of doors           \n",
    "10. Cruise: indicator variable representing whether the car has cruise control (1 = cruise)\n",
    "11. Sound: indicator variable representing whether the car has upgraded speakers (1 = upgraded)\n",
    "12. Leather: indicator variable representing whether the car has leather seats (1 = leather)\n",
    "\n",
    "## Tasks, Part 1\n",
    "\n",
    "1. Find the linear regression equation for mileage vs price.\n",
    "2. Chart the original data and the equation on the chart.\n",
    "3. Find the equation's $R^2$ score (use the `.score` method) to determine whether the\n",
    "equation is a good fit for this data. (0.8 and greater is considered a strong correlation.)\n",
    "\n",
    "## Tasks, Part 2\n",
    "\n",
    "1. Use mileage, cylinders, liters, doors, cruise, sound, and leather to find the linear regression equation.\n",
    "2. Find the equation's $R^2$ score (use the `.score` method) to determine whether the\n",
    "equation is a good fit for this data. (0.8 and greater is considered a strong correlation.)\n",
    "3. Find the combination of the factors that is the best predictor for price.\n",
    "\n",
    "## Tasks, Hard Mode\n",
    "\n",
    "1. Research dummy variables in scikit-learn to see how to use the make, model, and body type.\n",
    "2. Find the best combination of factors to predict price."
   ]
  },
  {
   "cell_type": "code",
   "execution_count": 82,
   "metadata": {},
   "outputs": [],
   "source": [
    "df = pd.read_csv(\"car_data.csv\")"
   ]
  },
  {
   "cell_type": "code",
   "execution_count": 83,
   "metadata": {},
   "outputs": [
    {
     "data": {
      "text/plain": [
       "Price       0\n",
       "Mileage     0\n",
       "Make        0\n",
       "Model       0\n",
       "Trim        0\n",
       "Type        0\n",
       "Cylinder    0\n",
       "Liter       0\n",
       "Doors       0\n",
       "Cruise      0\n",
       "Sound       0\n",
       "Leather     0\n",
       "dtype: int64"
      ]
     },
     "execution_count": 83,
     "metadata": {},
     "output_type": "execute_result"
    }
   ],
   "source": [
    "df.isnull().sum()"
   ]
  },
  {
   "cell_type": "code",
   "execution_count": 84,
   "metadata": {},
   "outputs": [
    {
     "name": "stdout",
     "output_type": "stream",
     "text": [
      "<class 'pandas.core.frame.DataFrame'>\n",
      "RangeIndex: 804 entries, 0 to 803\n",
      "Data columns (total 12 columns):\n",
      " #   Column    Non-Null Count  Dtype  \n",
      "---  ------    --------------  -----  \n",
      " 0   Price     804 non-null    float64\n",
      " 1   Mileage   804 non-null    int64  \n",
      " 2   Make      804 non-null    object \n",
      " 3   Model     804 non-null    object \n",
      " 4   Trim      804 non-null    object \n",
      " 5   Type      804 non-null    object \n",
      " 6   Cylinder  804 non-null    int64  \n",
      " 7   Liter     804 non-null    float64\n",
      " 8   Doors     804 non-null    int64  \n",
      " 9   Cruise    804 non-null    int64  \n",
      " 10  Sound     804 non-null    int64  \n",
      " 11  Leather   804 non-null    int64  \n",
      "dtypes: float64(2), int64(6), object(4)\n",
      "memory usage: 75.5+ KB\n"
     ]
    }
   ],
   "source": [
    "df.info()"
   ]
  },
  {
   "cell_type": "code",
   "execution_count": 85,
   "metadata": {},
   "outputs": [
    {
     "data": {
      "text/html": [
       "<div>\n",
       "<style scoped>\n",
       "    .dataframe tbody tr th:only-of-type {\n",
       "        vertical-align: middle;\n",
       "    }\n",
       "\n",
       "    .dataframe tbody tr th {\n",
       "        vertical-align: top;\n",
       "    }\n",
       "\n",
       "    .dataframe thead th {\n",
       "        text-align: right;\n",
       "    }\n",
       "</style>\n",
       "<table border=\"1\" class=\"dataframe\">\n",
       "  <thead>\n",
       "    <tr style=\"text-align: right;\">\n",
       "      <th></th>\n",
       "      <th>Price</th>\n",
       "      <th>Mileage</th>\n",
       "      <th>Make</th>\n",
       "      <th>Model</th>\n",
       "      <th>Trim</th>\n",
       "      <th>Type</th>\n",
       "      <th>Cylinder</th>\n",
       "      <th>Liter</th>\n",
       "      <th>Doors</th>\n",
       "      <th>Cruise</th>\n",
       "      <th>Sound</th>\n",
       "      <th>Leather</th>\n",
       "    </tr>\n",
       "  </thead>\n",
       "  <tbody>\n",
       "    <tr>\n",
       "      <th>0</th>\n",
       "      <td>17314.103129</td>\n",
       "      <td>8221</td>\n",
       "      <td>Buick</td>\n",
       "      <td>Century</td>\n",
       "      <td>Sedan 4D</td>\n",
       "      <td>Sedan</td>\n",
       "      <td>6</td>\n",
       "      <td>3.1</td>\n",
       "      <td>4</td>\n",
       "      <td>1</td>\n",
       "      <td>1</td>\n",
       "      <td>1</td>\n",
       "    </tr>\n",
       "    <tr>\n",
       "      <th>1</th>\n",
       "      <td>17542.036083</td>\n",
       "      <td>9135</td>\n",
       "      <td>Buick</td>\n",
       "      <td>Century</td>\n",
       "      <td>Sedan 4D</td>\n",
       "      <td>Sedan</td>\n",
       "      <td>6</td>\n",
       "      <td>3.1</td>\n",
       "      <td>4</td>\n",
       "      <td>1</td>\n",
       "      <td>1</td>\n",
       "      <td>0</td>\n",
       "    </tr>\n",
       "    <tr>\n",
       "      <th>2</th>\n",
       "      <td>16218.847862</td>\n",
       "      <td>13196</td>\n",
       "      <td>Buick</td>\n",
       "      <td>Century</td>\n",
       "      <td>Sedan 4D</td>\n",
       "      <td>Sedan</td>\n",
       "      <td>6</td>\n",
       "      <td>3.1</td>\n",
       "      <td>4</td>\n",
       "      <td>1</td>\n",
       "      <td>1</td>\n",
       "      <td>0</td>\n",
       "    </tr>\n",
       "  </tbody>\n",
       "</table>\n",
       "</div>"
      ],
      "text/plain": [
       "          Price  Mileage   Make    Model      Trim   Type  Cylinder  Liter  \\\n",
       "0  17314.103129     8221  Buick  Century  Sedan 4D  Sedan         6    3.1   \n",
       "1  17542.036083     9135  Buick  Century  Sedan 4D  Sedan         6    3.1   \n",
       "2  16218.847862    13196  Buick  Century  Sedan 4D  Sedan         6    3.1   \n",
       "\n",
       "   Doors  Cruise  Sound  Leather  \n",
       "0      4       1      1        1  \n",
       "1      4       1      1        0  \n",
       "2      4       1      1        0  "
      ]
     },
     "execution_count": 85,
     "metadata": {},
     "output_type": "execute_result"
    }
   ],
   "source": [
    "df.head(3)"
   ]
  },
  {
   "cell_type": "code",
   "execution_count": 86,
   "metadata": {},
   "outputs": [],
   "source": [
    "import seaborn as sns"
   ]
  },
  {
   "cell_type": "code",
   "execution_count": 87,
   "metadata": {},
   "outputs": [
    {
     "name": "stderr",
     "output_type": "stream",
     "text": [
      "C:\\Users\\wiki\\anaconda3\\lib\\site-packages\\seaborn\\_decorators.py:36: FutureWarning: Pass the following variable as a keyword arg: x. From version 0.12, the only valid positional argument will be `data`, and passing other arguments without an explicit keyword will result in an error or misinterpretation.\n",
      "  warnings.warn(\n"
     ]
    },
    {
     "data": {
      "text/plain": [
       "<AxesSubplot:xlabel='Price'>"
      ]
     },
     "execution_count": 87,
     "metadata": {},
     "output_type": "execute_result"
    },
    {
     "data": {
      "image/png": "[encoded data removed]",
      "text/plain": [
       "<Figure size 640x480 with 1 Axes>"
      ]
     },
     "metadata": {},
     "output_type": "display_data"
    }
   ],
   "source": [
    "sns.boxplot(df.Price)"
   ]
  },
  {
   "cell_type": "markdown",
   "metadata": {},
   "source": [
    "### Task 1\n",
    "1.Find the linear regression equation for mileage vs price."
   ]
  },
  {
   "cell_type": "code",
   "execution_count": 88,
   "metadata": {},
   "outputs": [],
   "source": [
    "q1 = df['Price'].quantile(0.25)\n",
    "q3 = df['Price'].quantile(0.75)\n",
    "iqr = q3 - q1\n",
    "upper_limit = q3 + (1.5*iqr)\n",
    "lower_limit = q1 - (1.5*iqr)"
   ]
  },
  {
   "cell_type": "code",
   "execution_count": 89,
   "metadata": {},
   "outputs": [],
   "source": [
    "low_out = (df['Price'] < lower_limit)\n",
    "upp_out = (df['Price'] > upper_limit)"
   ]
  },
  {
   "cell_type": "code",
   "execution_count": 90,
   "metadata": {},
   "outputs": [],
   "source": [
    "df = df[~(low_out | upp_out)]"
   ]
  },
  {
   "cell_type": "code",
   "execution_count": 91,
   "metadata": {},
   "outputs": [
    {
     "name": "stderr",
     "output_type": "stream",
     "text": [
      "C:\\Users\\wiki\\anaconda3\\lib\\site-packages\\seaborn\\_decorators.py:36: FutureWarning: Pass the following variable as a keyword arg: x. From version 0.12, the only valid positional argument will be `data`, and passing other arguments without an explicit keyword will result in an error or misinterpretation.\n",
      "  warnings.warn(\n"
     ]
    },
    {
     "data": {
      "text/plain": [
       "<AxesSubplot:xlabel='Price'>"
      ]
     },
     "execution_count": 91,
     "metadata": {},
     "output_type": "execute_result"
    },
    {
     "data": {
      "image/png": "[encoded data removed]",
      "text/plain": [
       "<Figure size 640x480 with 1 Axes>"
      ]
     },
     "metadata": {},
     "output_type": "display_data"
    }
   ],
   "source": [
    "sns.boxplot(df.Price)"
   ]
  },
  {
   "cell_type": "code",
   "execution_count": 92,
   "metadata": {},
   "outputs": [],
   "source": [
    "from sklearn.linear_model import LinearRegression\n",
    "from sklearn.model_selection import train_test_split"
   ]
  },
  {
   "cell_type": "code",
   "execution_count": 93,
   "metadata": {},
   "outputs": [],
   "source": [
    "lr = LinearRegression()"
   ]
  },
  {
   "cell_type": "code",
   "execution_count": 94,
   "metadata": {},
   "outputs": [],
   "source": [
    "X = df[['Mileage']]\n",
    "y = df[['Price']]"
   ]
  },
  {
   "cell_type": "code",
   "execution_count": 95,
   "metadata": {},
   "outputs": [],
   "source": [
    "X_train, X_test, y_train, y_test = train_test_split(X, y, test_size = 0.3, random_state = 10)"
   ]
  },
  {
   "cell_type": "code",
   "execution_count": 96,
   "metadata": {},
   "outputs": [
    {
     "data": {
      "text/html": [
       "<style>#sk-container-id-4 {color: black;background-color: white;}#sk-container-id-4 pre{padding: 0;}#sk-container-id-4 div.sk-toggleable {background-color: white;}#sk-container-id-4 label.sk-toggleable__label {cursor: pointer;display: block;width: 100%;margin-bottom: 0;padding: 0.3em;box-sizing: border-box;text-align: center;}#sk-container-id-4 label.sk-toggleable__label-arrow:before {content: \"▸\";float: left;margin-right: 0.25em;color: #696969;}#sk-container-id-4 label.sk-toggleable__label-arrow:hover:before {color: black;}#sk-container-id-4 div.sk-estimator:hover label.sk-toggleable__label-arrow:before {color: black;}#sk-container-id-4 div.sk-toggleable__content {max-height: 0;max-width: 0;overflow: hidden;text-align: left;background-color: #f0f8ff;}#sk-container-id-4 div.sk-toggleable__content pre {margin: 0.2em;color: black;border-radius: 0.25em;background-color: #f0f8ff;}#sk-container-id-4 input.sk-toggleable__control:checked~div.sk-toggleable__content {max-height: 200px;max-width: 100%;overflow: auto;}#sk-container-id-4 input.sk-toggleable__control:checked~label.sk-toggleable__label-arrow:before {content: \"▾\";}#sk-container-id-4 div.sk-estimator input.sk-toggleable__control:checked~label.sk-toggleable__label {background-color: #d4ebff;}#sk-container-id-4 div.sk-label input.sk-toggleable__control:checked~label.sk-toggleable__label {background-color: #d4ebff;}#sk-container-id-4 input.sk-hidden--visually {border: 0;clip: rect(1px 1px 1px 1px);clip: rect(1px, 1px, 1px, 1px);height: 1px;margin: -1px;overflow: hidden;padding: 0;position: absolute;width: 1px;}#sk-container-id-4 div.sk-estimator {font-family: monospace;background-color: #f0f8ff;border: 1px dotted black;border-radius: 0.25em;box-sizing: border-box;margin-bottom: 0.5em;}#sk-container-id-4 div.sk-estimator:hover {background-color: #d4ebff;}#sk-container-id-4 div.sk-parallel-item::after {content: \"\";width: 100%;border-bottom: 1px solid gray;flex-grow: 1;}#sk-container-id-4 div.sk-label:hover label.sk-toggleable__label {background-color: #d4ebff;}#sk-container-id-4 div.sk-serial::before {content: \"\";position: absolute;border-left: 1px solid gray;box-sizing: border-box;top: 0;bottom: 0;left: 50%;z-index: 0;}#sk-container-id-4 div.sk-serial {display: flex;flex-direction: column;align-items: center;background-color: white;padding-right: 0.2em;padding-left: 0.2em;position: relative;}#sk-container-id-4 div.sk-item {position: relative;z-index: 1;}#sk-container-id-4 div.sk-parallel {display: flex;align-items: stretch;justify-content: center;background-color: white;position: relative;}#sk-container-id-4 div.sk-item::before, #sk-container-id-4 div.sk-parallel-item::before {content: \"\";position: absolute;border-left: 1px solid gray;box-sizing: border-box;top: 0;bottom: 0;left: 50%;z-index: -1;}#sk-container-id-4 div.sk-parallel-item {display: flex;flex-direction: column;z-index: 1;position: relative;background-color: white;}#sk-container-id-4 div.sk-parallel-item:first-child::after {align-self: flex-end;width: 50%;}#sk-container-id-4 div.sk-parallel-item:last-child::after {align-self: flex-start;width: 50%;}#sk-container-id-4 div.sk-parallel-item:only-child::after {width: 0;}#sk-container-id-4 div.sk-dashed-wrapped {border: 1px dashed gray;margin: 0 0.4em 0.5em 0.4em;box-sizing: border-box;padding-bottom: 0.4em;background-color: white;}#sk-container-id-4 div.sk-label label {font-family: monospace;font-weight: bold;display: inline-block;line-height: 1.2em;}#sk-container-id-4 div.sk-label-container {text-align: center;}#sk-container-id-4 div.sk-container {/* jupyter's `normalize.less` sets `[hidden] { display: none; }` but bootstrap.min.css set `[hidden] { display: none !important; }` so we also need the `!important` here to be able to override the default hidden behavior on the sphinx rendered scikit-learn.org. See: https://github.com/scikit-learn/scikit-learn/issues/21755 */display: inline-block !important;position: relative;}#sk-container-id-4 div.sk-text-repr-fallback {display: none;}</style><div id=\"sk-container-id-4\" class=\"sk-top-container\"><div class=\"sk-text-repr-fallback\"><pre>LinearRegression()</pre><b>In a Jupyter environment, please rerun this cell to show the HTML representation or trust the notebook. <br />On GitHub, the HTML representation is unable to render, please try loading this page with nbviewer.org.</b></div><div class=\"sk-container\" hidden><div class=\"sk-item\"><div class=\"sk-estimator sk-toggleable\"><input class=\"sk-toggleable__control sk-hidden--visually\" id=\"sk-estimator-id-4\" type=\"checkbox\" checked><label for=\"sk-estimator-id-4\" class=\"sk-toggleable__label sk-toggleable__label-arrow\">LinearRegression</label><div class=\"sk-toggleable__content\"><pre>LinearRegression()</pre></div></div></div></div></div>"
      ],
      "text/plain": [
       "LinearRegression()"
      ]
     },
     "execution_count": 96,
     "metadata": {},
     "output_type": "execute_result"
    }
   ],
   "source": [
    "lr.fit(X_train, y_train)"
   ]
  },
  {
   "cell_type": "code",
   "execution_count": 97,
   "metadata": {},
   "outputs": [
    {
     "name": "stdout",
     "output_type": "stream",
     "text": [
      "The linear regression equation for mileage vs price is :\n",
      "y = [[-0.0739696]] * x + [22104.90867938]\n"
     ]
    }
   ],
   "source": [
    "print('The linear regression equation for mileage vs price is :')\n",
    "print('y =',lr.coef_,'* x +',lr.intercept_)"
   ]
  },
  {
   "cell_type": "markdown",
   "metadata": {},
   "source": [
    "### Task 1\n",
    "2. Chart the original data and the equation on the chart."
   ]
  },
  {
   "cell_type": "code",
   "execution_count": 98,
   "metadata": {},
   "outputs": [],
   "source": [
    "y_pred = lr.predict(X_test)"
   ]
  },
  {
   "cell_type": "code",
   "execution_count": 99,
   "metadata": {},
   "outputs": [
    {
     "data": {
      "image/png": "[encoded data removed]",
      "text/plain": [
       "<Figure size 640x480 with 1 Axes>"
      ]
     },
     "metadata": {},
     "output_type": "display_data"
    }
   ],
   "source": [
    "plt.scatter(X_test, y_test, label = 'Actual Data')\n",
    "plt.scatter(X_test, y_pred, label = 'Predicted Data')\n",
    "plt.legend()\n",
    "plt.xlabel('Mileage')\n",
    "plt.ylabel('Price')\n",
    "plt.show()"
   ]
  },
  {
   "cell_type": "markdown",
   "metadata": {},
   "source": [
    "### Task 1\n",
    "3. Find the equation's  𝑅2  score (use the .score method) to determine whether the equation is a good fit for this data. (0.8 and greater is considered a strong correlation.)"
   ]
  },
  {
   "cell_type": "code",
   "execution_count": 100,
   "metadata": {},
   "outputs": [],
   "source": [
    "from sklearn.metrics import r2_score"
   ]
  },
  {
   "cell_type": "code",
   "execution_count": 101,
   "metadata": {},
   "outputs": [
    {
     "name": "stdout",
     "output_type": "stream",
     "text": [
      "The R2 Score for the equation is 0.017645988046412042\n"
     ]
    }
   ],
   "source": [
    "print('The R2 Score for the equation is {}'.format(r2_score(y_test, y_pred)))"
   ]
  },
  {
   "cell_type": "markdown",
   "metadata": {},
   "source": [
    "### Task 2\n",
    "1. Use mileage, cylinders, liters, doors, cruise, sound, and leather to find the linear regression equation."
   ]
  },
  {
   "cell_type": "code",
   "execution_count": 102,
   "metadata": {},
   "outputs": [
    {
     "data": {
      "text/plain": [
       "Index(['Price', 'Mileage', 'Make', 'Model', 'Trim', 'Type', 'Cylinder',\n",
       "       'Liter', 'Doors', 'Cruise', 'Sound', 'Leather'],\n",
       "      dtype='object')"
      ]
     },
     "execution_count": 102,
     "metadata": {},
     "output_type": "execute_result"
    }
   ],
   "source": [
    "df.columns"
   ]
  },
  {
   "cell_type": "code",
   "execution_count": 103,
   "metadata": {},
   "outputs": [],
   "source": [
    "X = df[['Mileage', 'Cylinder', 'Liter', 'Doors', 'Cruise', 'Sound', 'Leather']]\n",
    "y = df[['Price']]"
   ]
  },
  {
   "cell_type": "code",
   "execution_count": 104,
   "metadata": {},
   "outputs": [],
   "source": [
    "X_train, X_test, y_train, y_test = train_test_split(X, y, test_size = 0.3, random_state = 10)"
   ]
  },
  {
   "cell_type": "code",
   "execution_count": 105,
   "metadata": {},
   "outputs": [],
   "source": [
    "lr = LinearRegression()"
   ]
  },
  {
   "cell_type": "code",
   "execution_count": 106,
   "metadata": {},
   "outputs": [
    {
     "data": {
      "text/html": [
       "<style>#sk-container-id-5 {color: black;background-color: white;}#sk-container-id-5 pre{padding: 0;}#sk-container-id-5 div.sk-toggleable {background-color: white;}#sk-container-id-5 label.sk-toggleable__label {cursor: pointer;display: block;width: 100%;margin-bottom: 0;padding: 0.3em;box-sizing: border-box;text-align: center;}#sk-container-id-5 label.sk-toggleable__label-arrow:before {content: \"▸\";float: left;margin-right: 0.25em;color: #696969;}#sk-container-id-5 label.sk-toggleable__label-arrow:hover:before {color: black;}#sk-container-id-5 div.sk-estimator:hover label.sk-toggleable__label-arrow:before {color: black;}#sk-container-id-5 div.sk-toggleable__content {max-height: 0;max-width: 0;overflow: hidden;text-align: left;background-color: #f0f8ff;}#sk-container-id-5 div.sk-toggleable__content pre {margin: 0.2em;color: black;border-radius: 0.25em;background-color: #f0f8ff;}#sk-container-id-5 input.sk-toggleable__control:checked~div.sk-toggleable__content {max-height: 200px;max-width: 100%;overflow: auto;}#sk-container-id-5 input.sk-toggleable__control:checked~label.sk-toggleable__label-arrow:before {content: \"▾\";}#sk-container-id-5 div.sk-estimator input.sk-toggleable__control:checked~label.sk-toggleable__label {background-color: #d4ebff;}#sk-container-id-5 div.sk-label input.sk-toggleable__control:checked~label.sk-toggleable__label {background-color: #d4ebff;}#sk-container-id-5 input.sk-hidden--visually {border: 0;clip: rect(1px 1px 1px 1px);clip: rect(1px, 1px, 1px, 1px);height: 1px;margin: -1px;overflow: hidden;padding: 0;position: absolute;width: 1px;}#sk-container-id-5 div.sk-estimator {font-family: monospace;background-color: #f0f8ff;border: 1px dotted black;border-radius: 0.25em;box-sizing: border-box;margin-bottom: 0.5em;}#sk-container-id-5 div.sk-estimator:hover {background-color: #d4ebff;}#sk-container-id-5 div.sk-parallel-item::after {content: \"\";width: 100%;border-bottom: 1px solid gray;flex-grow: 1;}#sk-container-id-5 div.sk-label:hover label.sk-toggleable__label {background-color: #d4ebff;}#sk-container-id-5 div.sk-serial::before {content: \"\";position: absolute;border-left: 1px solid gray;box-sizing: border-box;top: 0;bottom: 0;left: 50%;z-index: 0;}#sk-container-id-5 div.sk-serial {display: flex;flex-direction: column;align-items: center;background-color: white;padding-right: 0.2em;padding-left: 0.2em;position: relative;}#sk-container-id-5 div.sk-item {position: relative;z-index: 1;}#sk-container-id-5 div.sk-parallel {display: flex;align-items: stretch;justify-content: center;background-color: white;position: relative;}#sk-container-id-5 div.sk-item::before, #sk-container-id-5 div.sk-parallel-item::before {content: \"\";position: absolute;border-left: 1px solid gray;box-sizing: border-box;top: 0;bottom: 0;left: 50%;z-index: -1;}#sk-container-id-5 div.sk-parallel-item {display: flex;flex-direction: column;z-index: 1;position: relative;background-color: white;}#sk-container-id-5 div.sk-parallel-item:first-child::after {align-self: flex-end;width: 50%;}#sk-container-id-5 div.sk-parallel-item:last-child::after {align-self: flex-start;width: 50%;}#sk-container-id-5 div.sk-parallel-item:only-child::after {width: 0;}#sk-container-id-5 div.sk-dashed-wrapped {border: 1px dashed gray;margin: 0 0.4em 0.5em 0.4em;box-sizing: border-box;padding-bottom: 0.4em;background-color: white;}#sk-container-id-5 div.sk-label label {font-family: monospace;font-weight: bold;display: inline-block;line-height: 1.2em;}#sk-container-id-5 div.sk-label-container {text-align: center;}#sk-container-id-5 div.sk-container {/* jupyter's `normalize.less` sets `[hidden] { display: none; }` but bootstrap.min.css set `[hidden] { display: none !important; }` so we also need the `!important` here to be able to override the default hidden behavior on the sphinx rendered scikit-learn.org. See: https://github.com/scikit-learn/scikit-learn/issues/21755 */display: inline-block !important;position: relative;}#sk-container-id-5 div.sk-text-repr-fallback {display: none;}</style><div id=\"sk-container-id-5\" class=\"sk-top-container\"><div class=\"sk-text-repr-fallback\"><pre>LinearRegression()</pre><b>In a Jupyter environment, please rerun this cell to show the HTML representation or trust the notebook. <br />On GitHub, the HTML representation is unable to render, please try loading this page with nbviewer.org.</b></div><div class=\"sk-container\" hidden><div class=\"sk-item\"><div class=\"sk-estimator sk-toggleable\"><input class=\"sk-toggleable__control sk-hidden--visually\" id=\"sk-estimator-id-5\" type=\"checkbox\" checked><label for=\"sk-estimator-id-5\" class=\"sk-toggleable__label sk-toggleable__label-arrow\">LinearRegression</label><div class=\"sk-toggleable__content\"><pre>LinearRegression()</pre></div></div></div></div></div>"
      ],
      "text/plain": [
       "LinearRegression()"
      ]
     },
     "execution_count": 106,
     "metadata": {},
     "output_type": "execute_result"
    }
   ],
   "source": [
    "lr.fit(X_train, y_train)"
   ]
  },
  {
   "cell_type": "code",
   "execution_count": 107,
   "metadata": {},
   "outputs": [
    {
     "name": "stdout",
     "output_type": "stream",
     "text": [
      "The linear regression equation for [Mileage,Cylinder,Liter,Doors,Cruise,Sound,Leather] vs price is :\n",
      "y = [[-1.27770733e-01  1.43288379e+03  1.34403597e+03 -5.54818730e+02\n",
      "   6.07549383e+03 -2.52768316e+03  2.52421342e+03]] * x + [8888.16869335]\n"
     ]
    }
   ],
   "source": [
    "print('The linear regression equation for [Mileage,Cylinder,Liter,Doors,Cruise,Sound,Leather] vs price is :')\n",
    "print('y =',lr.coef_,'* x +',lr.intercept_)"
   ]
  },
  {
   "cell_type": "markdown",
   "metadata": {},
   "source": [
    "### Task 2\n",
    "2. Find the equation's  𝑅2  score (use the .score method) to determine whether the equation is a good fit for this data. (0.8 and greater is considered a strong correlation.)"
   ]
  },
  {
   "cell_type": "code",
   "execution_count": 108,
   "metadata": {},
   "outputs": [],
   "source": [
    "y_pred = lr.predict(X_test)"
   ]
  },
  {
   "cell_type": "code",
   "execution_count": 109,
   "metadata": {},
   "outputs": [
    {
     "name": "stdout",
     "output_type": "stream",
     "text": [
      "The R2 Score for the equation is 0.42221806790023086\n"
     ]
    }
   ],
   "source": [
    "print('The R2 Score for the equation is {}'.format(r2_score(y_test, y_pred)))"
   ]
  },
  {
   "cell_type": "markdown",
   "metadata": {},
   "source": [
    "### Task 2\n",
    "3. Find the combination of the factors that is the best predictor for price."
   ]
  },
  {
   "cell_type": "code",
   "execution_count": 110,
   "metadata": {},
   "outputs": [],
   "source": [
    "cols = ['Mileage', 'Cylinder', 'Liter', 'Doors', 'Cruise', 'Sound', 'Leather']"
   ]
  },
  {
   "cell_type": "code",
   "execution_count": 111,
   "metadata": {},
   "outputs": [],
   "source": [
    "def combination_scores(cols, df, target):\n",
    "    X = df[cols]\n",
    "    y = df[target]\n",
    "    X_train, X_test, y_train, y_test = train_test_split(X, y, test_size = 0.3, random_state = 10)\n",
    "    lr = LinearRegression()\n",
    "    lr.fit(X_train, y_train)\n",
    "    y_pred = lr.predict(X_test)\n",
    "    return r2_score(y_test, y_pred)"
   ]
  },
  {
   "cell_type": "code",
   "execution_count": 112,
   "metadata": {},
   "outputs": [],
   "source": [
    "import itertools as it"
   ]
  },
  {
   "cell_type": "code",
   "execution_count": 113,
   "metadata": {},
   "outputs": [],
   "source": [
    "scores = {}\n",
    "for i in range(len(cols)):\n",
    "    for j in it.combinations(cols, i + 1):\n",
    "        scores[combination_scores(list(j), df, target = 'Price')] = list(j)"
   ]
  },
  {
   "cell_type": "code",
   "execution_count": 114,
   "metadata": {},
   "outputs": [
    {
     "data": {
      "text/plain": [
       "[(0.4283191447825191, ['Mileage', 'Liter', 'Cruise', 'Sound', 'Leather']),\n",
       " (0.427667167652503,\n",
       "  ['Mileage', 'Liter', 'Doors', 'Cruise', 'Sound', 'Leather']),\n",
       " (0.4246897728122875,\n",
       "  ['Mileage', 'Cylinder', 'Liter', 'Cruise', 'Sound', 'Leather']),\n",
       " (0.42221806790023086,\n",
       "  ['Mileage', 'Cylinder', 'Liter', 'Doors', 'Cruise', 'Sound', 'Leather']),\n",
       " (0.4140575948661439,\n",
       "  ['Mileage', 'Cylinder', 'Doors', 'Cruise', 'Sound', 'Leather']),\n",
       " (0.4134413465533444, ['Mileage', 'Cylinder', 'Cruise', 'Sound', 'Leather']),\n",
       " (0.4122891061923377, ['Liter', 'Cruise', 'Sound', 'Leather']),\n",
       " (0.41153392768725217, ['Liter', 'Doors', 'Cruise', 'Sound', 'Leather']),\n",
       " (0.40866104569682116, ['Cylinder', 'Liter', 'Cruise', 'Sound', 'Leather']),\n",
       " (0.40607801684695843,\n",
       "  ['Cylinder', 'Liter', 'Doors', 'Cruise', 'Sound', 'Leather']),\n",
       " (0.40596738751626016, ['Mileage', 'Liter', 'Cruise', 'Leather']),\n",
       " (0.4045586400956741, ['Mileage', 'Liter', 'Doors', 'Cruise', 'Leather']),\n",
       " (0.4026442439940444, ['Mileage', 'Cylinder', 'Liter', 'Cruise', 'Leather']),\n",
       " (0.3989737659114547,\n",
       "  ['Mileage', 'Cylinder', 'Liter', 'Doors', 'Cruise', 'Leather']),\n",
       " (0.3987961707934786, ['Cylinder', 'Doors', 'Cruise', 'Sound', 'Leather']),\n",
       " (0.39835035410954145, ['Cylinder', 'Cruise', 'Sound', 'Leather']),\n",
       " (0.3942509420449348, ['Mileage', 'Cylinder', 'Cruise', 'Leather']),\n",
       " (0.3942405206304035, ['Mileage', 'Liter', 'Cruise', 'Sound']),\n",
       " (0.3935015795182406, ['Mileage', 'Liter', 'Doors', 'Cruise', 'Sound']),\n",
       " (0.39302188184620845, ['Mileage', 'Cylinder', 'Doors', 'Cruise', 'Leather']),\n",
       " (0.3917778544199202, ['Liter', 'Cruise', 'Leather']),\n",
       " (0.39037558478638223, ['Liter', 'Doors', 'Cruise', 'Leather']),\n",
       " (0.39037111393750357, ['Mileage', 'Cylinder', 'Liter', 'Cruise', 'Sound']),\n",
       " (0.38855243949295115, ['Cylinder', 'Liter', 'Cruise', 'Leather']),\n",
       " (0.38746469604345923,\n",
       "  ['Mileage', 'Cylinder', 'Liter', 'Doors', 'Cruise', 'Sound']),\n",
       " (0.384801537013158, ['Cylinder', 'Liter', 'Doors', 'Cruise', 'Leather']),\n",
       " (0.3814085501740474, ['Mileage', 'Liter', 'Cruise']),\n",
       " (0.38087465309859814, ['Cylinder', 'Cruise', 'Leather']),\n",
       " (0.3798592358162778, ['Mileage', 'Liter', 'Doors', 'Cruise']),\n",
       " (0.3796015430667884, ['Cylinder', 'Doors', 'Cruise', 'Leather']),\n",
       " (0.37746117095120146, ['Liter', 'Cruise', 'Sound']),\n",
       " (0.3774553388386729, ['Mileage', 'Cylinder', 'Liter', 'Cruise']),\n",
       " (0.3774497488226267, ['Mileage', 'Cylinder', 'Doors', 'Cruise', 'Sound']),\n",
       " (0.37662849295291323, ['Liter', 'Doors', 'Cruise', 'Sound']),\n",
       " (0.3764983102936065, ['Mileage', 'Cylinder', 'Cruise', 'Sound']),\n",
       " (0.373541789305749, ['Cylinder', 'Liter', 'Cruise', 'Sound']),\n",
       " (0.37340687695869657, ['Mileage', 'Cylinder', 'Liter', 'Doors', 'Cruise']),\n",
       " (0.3705956291044403, ['Cylinder', 'Liter', 'Doors', 'Cruise', 'Sound']),\n",
       " (0.36656776760448795, ['Mileage', 'Cylinder', 'Cruise']),\n",
       " (0.366277466877753, ['Liter', 'Cruise']),\n",
       " (0.36568859641404405, ['Mileage', 'Cylinder', 'Doors', 'Cruise']),\n",
       " (0.36474436135988786, ['Liter', 'Doors', 'Cruise']),\n",
       " (0.36233653843010616, ['Cylinder', 'Liter', 'Cruise']),\n",
       " (0.3615420842944166, ['Cylinder', 'Doors', 'Cruise', 'Sound']),\n",
       " (0.3606951729493034, ['Cylinder', 'Cruise', 'Sound']),\n",
       " (0.3582824003005932, ['Cylinder', 'Liter', 'Doors', 'Cruise']),\n",
       " (0.35225591953169233, ['Cylinder', 'Cruise']),\n",
       " (0.35140058853332734, ['Cylinder', 'Doors', 'Cruise']),\n",
       " (0.33679517570791606, ['Mileage', 'Liter', 'Sound', 'Leather']),\n",
       " (0.33575860330651197, ['Mileage', 'Liter', 'Doors', 'Sound', 'Leather']),\n",
       " (0.33392165536131335, ['Mileage', 'Cylinder', 'Liter', 'Sound', 'Leather']),\n",
       " (0.3307404679908218,\n",
       "  ['Mileage', 'Cylinder', 'Liter', 'Doors', 'Sound', 'Leather']),\n",
       " (0.32297202324468544, ['Liter', 'Sound', 'Leather']),\n",
       " (0.3218062722345687, ['Liter', 'Doors', 'Sound', 'Leather']),\n",
       " (0.3199626040396901, ['Cylinder', 'Liter', 'Sound', 'Leather']),\n",
       " (0.3166763752148004, ['Cylinder', 'Liter', 'Doors', 'Sound', 'Leather']),\n",
       " (0.31340347954430803, ['Mileage', 'Liter', 'Sound']),\n",
       " (0.3123478378382184, ['Mileage', 'Liter', 'Doors', 'Sound']),\n",
       " (0.311020945713946, ['Mileage', 'Cylinder', 'Doors', 'Sound', 'Leather']),\n",
       " (0.31043136934476245, ['Mileage', 'Cylinder', 'Liter', 'Sound']),\n",
       " (0.309469590002484, ['Mileage', 'Cylinder', 'Sound', 'Leather']),\n",
       " (0.306959309654936, ['Mileage', 'Cylinder', 'Liter', 'Doors', 'Sound']),\n",
       " (0.3065866563530383, ['Mileage', 'Liter', 'Leather']),\n",
       " (0.304424682666258, ['Mileage', 'Liter', 'Doors', 'Leather']),\n",
       " (0.3037259940240067, ['Mileage', 'Cylinder', 'Liter', 'Leather']),\n",
       " (0.30147718971215476, ['Mileage', 'Doors', 'Cruise', 'Sound', 'Leather']),\n",
       " (0.30108400091736054, ['Mileage', 'Cruise', 'Sound', 'Leather']),\n",
       " (0.29909030820836, ['Mileage', 'Cylinder', 'Liter', 'Doors', 'Leather']),\n",
       " (0.29905331319995554, ['Liter', 'Sound']),\n",
       " (0.298031722463444, ['Cylinder', 'Doors', 'Sound', 'Leather']),\n",
       " (0.2978917955504793, ['Liter', 'Doors', 'Sound']),\n",
       " (0.29671192453463857, ['Cylinder', 'Sound', 'Leather']),\n",
       " (0.29591193966596274, ['Cylinder', 'Liter', 'Sound']),\n",
       " (0.29472447130817536, ['Liter', 'Leather']),\n",
       " (0.29255512648438153, ['Liter', 'Doors', 'Leather']),\n",
       " (0.29240697663882476, ['Cylinder', 'Liter', 'Doors', 'Sound']),\n",
       " (0.2923044129458223, ['Mileage', 'Liter']),\n",
       " (0.2918619100764739, ['Cylinder', 'Liter', 'Leather']),\n",
       " (0.29009519576762066, ['Mileage', 'Liter', 'Doors']),\n",
       " (0.2890941846877909, ['Mileage', 'Cylinder', 'Liter']),\n",
       " (0.28715679472367794, ['Cylinder', 'Liter', 'Doors', 'Leather']),\n",
       " (0.2856242287444122, ['Mileage', 'Cylinder', 'Doors', 'Sound']),\n",
       " (0.28422616564604186, ['Mileage', 'Cylinder', 'Liter', 'Doors']),\n",
       " (0.2836546765223239, ['Mileage', 'Cylinder', 'Sound']),\n",
       " (0.28365232301737087, ['Mileage', 'Cylinder', 'Leather']),\n",
       " (0.2826362214247704, ['Mileage', 'Cylinder', 'Doors', 'Leather']),\n",
       " (0.2797978844506558, ['Liter']),\n",
       " (0.2778982652205244, ['Doors', 'Cruise', 'Sound', 'Leather']),\n",
       " (0.2777810463290059, ['Cruise', 'Sound', 'Leather']),\n",
       " (0.2776089538366924, ['Liter', 'Doors']),\n",
       " (0.27711147109810985, ['Mileage', 'Cruise', 'Leather']),\n",
       " (0.2765255054538821, ['Cylinder', 'Liter']),\n",
       " (0.2762641855572159, ['Mileage', 'Doors', 'Cruise', 'Leather']),\n",
       " (0.27266402265670586, ['Cylinder', 'Leather']),\n",
       " (0.27221939958940533, ['Cylinder', 'Doors', 'Sound']),\n",
       " (0.27166420084604104, ['Cylinder', 'Liter', 'Doors']),\n",
       " (0.27156560908445193, ['Cylinder', 'Doors', 'Leather']),\n",
       " (0.2704076095609339, ['Cylinder', 'Sound']),\n",
       " (0.2667702182794688, ['Mileage', 'Cylinder']),\n",
       " (0.2661892526644719, ['Mileage', 'Cylinder', 'Doors']),\n",
       " (0.2554956301327007, ['Cruise', 'Leather']),\n",
       " (0.2551397217099256, ['Cylinder']),\n",
       " (0.25455637876435167, ['Cylinder', 'Doors']),\n",
       " (0.2544971991440429, ['Doors', 'Cruise', 'Leather']),\n",
       " (0.25430233112168665, ['Mileage', 'Doors', 'Cruise', 'Sound']),\n",
       " (0.2538900594277236, ['Mileage', 'Cruise', 'Sound']),\n",
       " (0.24290220780662353, ['Mileage', 'Cruise']),\n",
       " (0.2419493515812845, ['Mileage', 'Doors', 'Cruise']),\n",
       " (0.22992691929125908, ['Doors', 'Cruise', 'Sound']),\n",
       " (0.22982944812541606, ['Cruise', 'Sound']),\n",
       " (0.2202411853281715, ['Cruise']),\n",
       " (0.21909956031240618, ['Doors', 'Cruise']),\n",
       " (0.0789056918864216, ['Mileage', 'Doors', 'Sound', 'Leather']),\n",
       " (0.07781114252036259, ['Mileage', 'Sound', 'Leather']),\n",
       " (0.05818347629576648, ['Doors', 'Sound', 'Leather']),\n",
       " (0.057539060524484764, ['Sound', 'Leather']),\n",
       " (0.046031281767314636, ['Mileage', 'Doors', 'Sound']),\n",
       " (0.04496803987438758, ['Mileage', 'Sound']),\n",
       " (0.036385848926312025, ['Mileage', 'Leather']),\n",
       " (0.03511477851955036, ['Mileage', 'Doors', 'Leather']),\n",
       " (0.025299394154888688, ['Doors', 'Sound']),\n",
       " (0.024744020965852154, ['Sound']),\n",
       " (0.01809058673372832, ['Leather']),\n",
       " (0.017645988046412042, ['Mileage']),\n",
       " (0.016514409567355393, ['Doors', 'Leather']),\n",
       " (0.016224186834628118, ['Mileage', 'Doors']),\n",
       " (-0.002705259579845354, ['Doors'])]"
      ]
     },
     "execution_count": 114,
     "metadata": {},
     "output_type": "execute_result"
    }
   ],
   "source": [
    "sorted(scores.items(), key = lambda c:c[0], reverse = True)"
   ]
  },
  {
   "cell_type": "markdown",
   "metadata": {},
   "source": [
    "#### The best R2 score is 0.4283191447825191 with this combination  ['Mileage', 'Liter', 'Cruise', 'Sound', 'Leather']"
   ]
  },
  {
   "cell_type": "markdown",
   "metadata": {},
   "source": [
    "### Task 3\n",
    "1. Research dummy variables in scikit-learn to see how to use the make, model, and body type.\n",
    "2. Find the best combination of factors to predict price."
   ]
  },
  {
   "cell_type": "code",
   "execution_count": 115,
   "metadata": {},
   "outputs": [],
   "source": [
    "from sklearn.dummy import DummyRegressor"
   ]
  },
  {
   "cell_type": "code",
   "execution_count": 130,
   "metadata": {},
   "outputs": [],
   "source": [
    "def dummy_scores(cols, df, target):\n",
    "    X = df[cols]\n",
    "    y = df[target]\n",
    "    X_train, X_test, y_train, y_test = train_test_split(X, y, test_size = 0.3, random_state = 10)\n",
    "    dr = DummyRegressor(strategy=\"median\")\n",
    "    dr.fit(X_train, y_train)\n",
    "    y_pred = dr.predict(X_test)\n",
    "    return r2_score(y_test, y_pred)"
   ]
  },
  {
   "cell_type": "code",
   "execution_count": 126,
   "metadata": {},
   "outputs": [],
   "source": [
    "cols =['Make', 'Model', 'Type']"
   ]
  },
  {
   "cell_type": "code",
   "execution_count": 147,
   "metadata": {},
   "outputs": [],
   "source": [
    "scores_dummy = {}\n",
    "for i in range(len(cols)):\n",
    "    for j in it.combinations(cols, i + 1):\n",
    "        key = list(j)\n",
    "        scores_dummy[j] = dummy_scores(list(j), df, target = 'Price')"
   ]
  },
  {
   "cell_type": "code",
   "execution_count": 148,
   "metadata": {},
   "outputs": [
    {
     "data": {
      "text/plain": [
       "{('Make',): -0.08500006419129469,\n",
       " ('Model',): -0.08500006419129469,\n",
       " ('Type',): -0.08500006419129469,\n",
       " ('Make', 'Model'): -0.08500006419129469,\n",
       " ('Make', 'Type'): -0.08500006419129469,\n",
       " ('Model', 'Type'): -0.08500006419129469,\n",
       " ('Make', 'Model', 'Type'): -0.08500006419129469}"
      ]
     },
     "execution_count": 148,
     "metadata": {},
     "output_type": "execute_result"
    }
   ],
   "source": [
    "scores_dummy"
   ]
  }
 ],
 "metadata": {
  "kernelspec": {
   "display_name": "Python 3 (ipykernel)",
   "language": "python",
   "name": "python3"
  },
  "language_info": {
   "codemirror_mode": {
    "name": "ipython",
    "version": 3
   },
   "file_extension": ".py",
   "mimetype": "text/x-python",
   "name": "python",
   "nbconvert_exporter": "python",
   "pygments_lexer": "ipython3",
   "version": "3.8.8"
  }
 },
 "nbformat": 4,
 "nbformat_minor": 1
}
